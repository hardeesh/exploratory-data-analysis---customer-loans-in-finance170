{
 "cells": [
  {
   "cell_type": "code",
   "execution_count": 219,
   "metadata": {},
   "outputs": [],
   "source": [
    "import pandas as pd\n",
    "import numpy as np\n",
    "from DataFrameInfo import DataFrameInfo\n",
    "import seaborn as sns\n",
    "import matplotlib.pyplot as plt\n",
    "\n",
    "\n",
    "df = pd.read_csv('loan_payments_skewness_corrected.csv')"
   ]
  },
  {
   "cell_type": "code",
   "execution_count": 220,
   "metadata": {},
   "outputs": [
    {
     "data": {
      "text/plain": [
       "([<matplotlib.patches.Wedge at 0x1f49ac30aa0>,\n",
       "  <matplotlib.patches.Wedge at 0x1f49aaf3b60>],\n",
       " [Text(-1.1849652747295496, -0.18936023258626117, 'Paid'),\n",
       "  Text(1.1849652924587288, 0.18936012164180435, 'Unpaid')],\n",
       " [Text(-1.0862181685020873, -0.17358021320407277, '55%'),\n",
       "  Text(1.086218184753835, 0.17358011150498734, '45%')])"
      ]
     },
     "execution_count": 220,
     "metadata": {},
     "output_type": "execute_result"
    },
    {
     "data": {
      "image/png": "[encoded data removed]",
      "text/plain": [
       "<Figure size 640x480 with 1 Axes>"
      ]
     },
     "metadata": {},
     "output_type": "display_data"
    }
   ],
   "source": [
    "df['percentage_paid'] = df['total_payment']/df['loan_amount'] *100\n",
    "labels= 'Paid', 'Unpaid'\n",
    "data = [(df['percentage_paid'] > 100).sum(), (df['percentage_paid'] < 100).sum()]\n",
    "\n",
    "plt.pie(data, labels=labels, autopct='%1.0f%%', pctdistance=1.1, labeldistance=1.2, startangle = 90)"
   ]
  },
  {
   "cell_type": "code",
   "execution_count": 221,
   "metadata": {},
   "outputs": [
    {
     "data": {
      "text/plain": [
       "([<matplotlib.patches.Wedge at 0x1f49acbb3b0>,\n",
       "  <matplotlib.patches.Wedge at 0x1f49acbb2f0>],\n",
       " [Text(-0.9381782646042408, -0.7482122318060398, 'Paid'),\n",
       "  Text(0.9381782646042408, 0.7482122318060397, 'Unpaid')],\n",
       " [Text(-0.8599967425538875, -0.6858612124888699, '71%'),\n",
       "  Text(0.8599967425538875, 0.6858612124888698, '29%')])"
      ]
     },
     "execution_count": 221,
     "metadata": {},
     "output_type": "execute_result"
    },
    {
     "data": {
      "image/png": "[encoded data removed]",
      "text/plain": [
       "<Figure size 640x480 with 1 Axes>"
      ]
     },
     "metadata": {},
     "output_type": "display_data"
    }
   ],
   "source": [
    "df['future_state_6_months'] = ((df['instalment'] *6) + df['total_payment'])\n",
    "df['future_percentage_paid'] = df['future_state_6_months']/df['funded_amount'] *100\n",
    "labels= 'Paid', 'Unpaid'\n",
    "future_data = [(df['future_percentage_paid'] > 100).sum(), (df['future_percentage_paid'] < 100).sum()]\n",
    "\n",
    "plt.pie(future_data, labels=labels, autopct='%1.0f%%', pctdistance=1.1, labeldistance=1.2, startangle = 90)"
   ]
  },
  {
   "cell_type": "markdown",
   "metadata": {},
   "source": [
    "As seen above, currently only 56% of all customers have paid off their loan and it is projected that within six months that this will increase to 71%."
   ]
  },
  {
   "cell_type": "code",
   "execution_count": 222,
   "metadata": {},
   "outputs": [
    {
     "name": "stdout",
     "output_type": "stream",
     "text": [
      "loan_status\n",
      "Fully Paid                                             26119\n",
      "Current                                                18128\n",
      "Charged Off                                             5146\n",
      "Does not meet the credit policy. Status:Fully Paid       927\n",
      "Late (31-120 days)                                       536\n",
      "Does not meet the credit policy. Status:Charged Off      325\n",
      "In Grace Period                                          249\n",
      "Late (16-30 days)                                         90\n",
      "Default                                                   47\n",
      "Name: count, dtype: int64\n"
     ]
    }
   ],
   "source": [
    "data = DataFrameInfo()\n",
    "print(data.distinct_values(df['loan_status']))"
   ]
  },
  {
   "cell_type": "code",
   "execution_count": 223,
   "metadata": {},
   "outputs": [
    {
     "name": "stdout",
     "output_type": "stream",
     "text": [
      "The percentage of loans that represent a loss to the company is 10.609498322570635%.\n"
     ]
    }
   ],
   "source": [
    "charged_off_only = (df['loan_status'].value_counts()['Charged Off'])\n",
    "charged_off_cp = (df['loan_status'].value_counts()['Does not meet the credit policy. Status:Charged Off'])\n",
    "charged_off = charged_off_only + charged_off_cp\n",
    "charged_off_percentage = (charged_off/df.shape[0] * 100)\n",
    "\n",
    "print(f'The percentage of loans that represent a loss to the company is {charged_off_percentage}%.')"
   ]
  },
  {
   "cell_type": "code",
   "execution_count": 224,
   "metadata": {},
   "outputs": [
    {
     "name": "stdout",
     "output_type": "stream",
     "text": [
      "The total amount of money that was paid towards the company by loans that have been charged off is £36385845.93.\n"
     ]
    }
   ],
   "source": [
    "charged_off_only_df = df[df['loan_status'].str.match('Charged Off')]\n",
    "charged_off_cp_df = df[df['loan_status'].str.match('Does not meet the credit policy. Status:Charged Off')]\n",
    "charged_off_customers= [charged_off_only_df, charged_off_cp_df]\n",
    "charged_off_customers = pd.concat(charged_off_customers)\n",
    "charged_off_total_amount = round(charged_off_customers['total_payment'].sum(), 2)\n",
    "\n",
    "print(f'The total amount of money that was paid towards the company by loans that have been charged off is £{charged_off_total_amount}.')\n"
   ]
  },
  {
   "cell_type": "code",
   "execution_count": 225,
   "metadata": {},
   "outputs": [
    {
     "name": "stdout",
     "output_type": "stream",
     "text": [
      "The total loss made by the loans that have been charged off is £49765384.75.\n"
     ]
    }
   ],
   "source": [
    "charged_off_customers['multiplier'] = (100+charged_off_customers['int_rate'])/100\n",
    "charged_off_customers['total_owed'] = charged_off_customers['multiplier'] * charged_off_customers['loan_amount']\n",
    "\n",
    "charged_off_loss = round((charged_off_customers['total_owed'].sum()) - (charged_off_customers['total_payment'].sum()), 2)\n",
    "\n",
    "print(f'The total loss made by the loans that have been charged off is £{charged_off_loss}.')\n"
   ]
  },
  {
   "cell_type": "code",
   "execution_count": 226,
   "metadata": {},
   "outputs": [
    {
     "data": {
      "image/png": "[encoded data removed]",
      "text/plain": [
       "<Figure size 640x480 with 1 Axes>"
      ]
     },
     "metadata": {},
     "output_type": "display_data"
    }
   ],
   "source": [
    "x_axis = ['Total paid', 'Total projected loss']\n",
    "y_axis = [charged_off_total_amount, charged_off_loss]\n",
    "\n",
    "plt.barh(x_axis, y_axis)\n",
    "\n",
    "for index, value in enumerate(y_axis):\n",
    "    plt.text(value, index,\n",
    "             str(f'£{value}'))\n",
    "    \n",
    "plt.show()"
   ]
  },
  {
   "cell_type": "code",
   "execution_count": 227,
   "metadata": {},
   "outputs": [
    {
     "name": "stdout",
     "output_type": "stream",
     "text": [
      "There are currently 875 customers that are overdue\n"
     ]
    }
   ],
   "source": [
    "late_customers_31 = (df['loan_status'] == 'Late (31-120 days)').sum()\n",
    "late_customers_16 = (df['loan_status'] == 'Late (16-30 days)').sum()\n",
    "late_customers_gp = (df['loan_status'] == 'In Grace Period').sum()\n",
    "late_customers = late_customers_31 + late_customers_16 + late_customers_gp\n",
    "print(f'There are currently {late_customers} customers that are overdue')"
   ]
  },
  {
   "cell_type": "code",
   "execution_count": 228,
   "metadata": {},
   "outputs": [
    {
     "name": "stdout",
     "output_type": "stream",
     "text": [
      "1.7% of all customers are overdue on their payments.\n"
     ]
    }
   ],
   "source": [
    "percentage_overdue = round(late_customers / df.shape[0] * 100, 2)\n",
    "print(f'{percentage_overdue}% of all customers are overdue on their payments.')\n"
   ]
  },
  {
   "cell_type": "code",
   "execution_count": 229,
   "metadata": {},
   "outputs": [],
   "source": [
    "late_customers_31_df = df[(df['loan_status'] == 'Late (31-120 days)')]\n",
    "late_customers_16_df = df[(df['loan_status'] == 'Late (16-30 days)')]\n",
    "late_customers_gp_df = df[(df['loan_status'] == 'In Grace Period')]\n",
    "late_customers_frame = [late_customers_16_df, late_customers_31_df, late_customers_gp_df]\n",
    "late_customers_df = pd.concat(late_customers_frame)\n"
   ]
  },
  {
   "cell_type": "code",
   "execution_count": 230,
   "metadata": {},
   "outputs": [],
   "source": [
    "late_customers_df['multiplier'] = (100 + late_customers_df['int_rate'])/100\n",
    "late_customers_df['total_owed'] = late_customers_df['multiplier'] * late_customers_df['loan_amount']\n",
    "\n",
    "late_customers_loss = round((late_customers_df['total_owed'].sum()) - (late_customers_df['total_payment'].sum()), 2)\n"
   ]
  },
  {
   "cell_type": "code",
   "execution_count": 239,
   "metadata": {},
   "outputs": [
    {
     "name": "stdout",
     "output_type": "stream",
     "text": [
      "The projected loss made by the loans that are currently late is £6050264.96 if their status were to change to Charged Off.\n"
     ]
    }
   ],
   "source": [
    "print(f'The projected loss made by the loans that are currently late is £{late_customers_loss} if their status were to change to Charged Off.')"
   ]
  },
  {
   "cell_type": "code",
   "execution_count": 240,
   "metadata": {},
   "outputs": [
    {
     "name": "stdout",
     "output_type": "stream",
     "text": [
      "If customers late on payments were converted to Charged Off, then the total potential loss from late and Charged Off customers is 7.08% of the total expected revenue.\n"
     ]
    }
   ],
   "source": [
    "total_potential_loss = charged_off_loss + late_customers_loss\n",
    "df['multiplier'] = (100 + df['int_rate'])/100\n",
    "df['total_owed'] = df['multiplier'] * df['loan_amount']\n",
    "total_expected_revenue = round((df['total_owed'].sum()), 2)\n",
    "\n",
    "percentage_total_loss= round(total_potential_loss / total_expected_revenue * 100, 2)\n",
    "\n",
    "print(f'If customers late on payments were converted to Charged Off, then the total potential loss from late and Charged Off customers is {percentage_total_loss}% of the total expected revenue.')"
   ]
  }
 ],
 "metadata": {
  "kernelspec": {
   "display_name": "Python 3",
   "language": "python",
   "name": "python3"
  },
  "language_info": {
   "codemirror_mode": {
    "name": "ipython",
    "version": 3
   },
   "file_extension": ".py",
   "mimetype": "text/x-python",
   "name": "python",
   "nbconvert_exporter": "python",
   "pygments_lexer": "ipython3",
   "version": "3.12.1"
  }
 },
 "nbformat": 4,
 "nbformat_minor": 2
}
