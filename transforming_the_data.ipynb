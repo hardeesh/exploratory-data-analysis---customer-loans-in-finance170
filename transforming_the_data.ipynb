{
 "cells": [
  {
   "cell_type": "code",
   "execution_count": 9,
   "metadata": {},
   "outputs": [],
   "source": [
    "import pandas as pd\n",
    "import numpy as np\n",
    "from DataFrameInfo import DataFrameInfo\n",
    "from sklearn.preprocessing import OrdinalEncoder\n",
    "import missingno as msno\n",
    "\n",
    "df = pd.read_csv('loan_payments2.csv')\n",
    "data = DataFrameInfo()"
   ]
  },
  {
   "cell_type": "code",
   "execution_count": 10,
   "metadata": {},
   "outputs": [],
   "source": [
    "df= df.dropna(subset=['last_payment_date', 'last_credit_pull_date', 'collections_12_mths_ex_med', 'employment_length'])"
   ]
  },
  {
   "cell_type": "code",
   "execution_count": 11,
   "metadata": {},
   "outputs": [],
   "source": [
    "df.drop(columns=['mths_since_last_delinq', 'mths_since_last_record', 'next_payment_date', 'mths_since_last_major_derog'],inplace=True)"
   ]
  },
  {
   "cell_type": "code",
   "execution_count": 12,
   "metadata": {},
   "outputs": [],
   "source": [
    "impute_int_rate = df['int_rate'].mean()\n",
    "df['int_rate'].fillna(impute_int_rate, inplace=True)"
   ]
  },
  {
   "cell_type": "code",
   "execution_count": 13,
   "metadata": {},
   "outputs": [],
   "source": [
    "impute_fa = df['funded_amount'].median()\n",
    "df['funded_amount'].fillna(impute_fa, inplace=True)\n"
   ]
  },
  {
   "cell_type": "code",
   "execution_count": 14,
   "metadata": {},
   "outputs": [],
   "source": [
    "impute_tm = df['term_months'].mode()[0]\n",
    "df['term_months'].fillna(impute_tm, inplace=True)"
   ]
  },
  {
   "cell_type": "code",
   "execution_count": 15,
   "metadata": {},
   "outputs": [
    {
     "name": "stdout",
     "output_type": "stream",
     "text": [
      "id                            0.0\n",
      "member_id                     0.0\n",
      "loan_amount                   0.0\n",
      "funded_amount                 0.0\n",
      "funded_amount_inv             0.0\n",
      "term_months                   0.0\n",
      "int_rate                      0.0\n",
      "instalment                    0.0\n",
      "grade                         0.0\n",
      "sub_grade                     0.0\n",
      "employment_length             0.0\n",
      "home_ownership                0.0\n",
      "annual_inc                    0.0\n",
      "verification_status           0.0\n",
      "issue_date                    0.0\n",
      "loan_status                   0.0\n",
      "payment_plan                  0.0\n",
      "purpose                       0.0\n",
      "dti                           0.0\n",
      "delinq_2yrs                   0.0\n",
      "earliest_credit_line          0.0\n",
      "inq_last_6mths                0.0\n",
      "open_accounts                 0.0\n",
      "total_accounts                0.0\n",
      "out_prncp                     0.0\n",
      "out_prncp_inv                 0.0\n",
      "total_payment                 0.0\n",
      "total_payment_inv             0.0\n",
      "total_rec_prncp               0.0\n",
      "total_rec_int                 0.0\n",
      "total_rec_late_fee            0.0\n",
      "recoveries                    0.0\n",
      "collection_recovery_fee       0.0\n",
      "last_payment_date             0.0\n",
      "last_payment_amount           0.0\n",
      "last_credit_pull_date         0.0\n",
      "collections_12_mths_ex_med    0.0\n",
      "policy_code                   0.0\n",
      "application_type              0.0\n",
      "dtype: float64\n"
     ]
    }
   ],
   "source": [
    "print(data.percent_missing(df))"
   ]
  },
  {
   "cell_type": "code",
   "execution_count": 16,
   "metadata": {},
   "outputs": [],
   "source": [
    "df.to_csv(r\"C:\\Users\\harde\\Documents\\AiCore\\Customer Loans in Finance/loan_payments3.csv\", index=False)"
   ]
  },
  {
   "cell_type": "code",
   "execution_count": null,
   "metadata": {},
   "outputs": [],
   "source": []
  }
 ],
 "metadata": {
  "kernelspec": {
   "display_name": "Python 3",
   "language": "python",
   "name": "python3"
  },
  "language_info": {
   "codemirror_mode": {
    "name": "ipython",
    "version": 3
   },
   "file_extension": ".py",
   "mimetype": "text/x-python",
   "name": "python",
   "nbconvert_exporter": "python",
   "pygments_lexer": "ipython3",
   "version": "3.12.1"
  }
 },
 "nbformat": 4,
 "nbformat_minor": 2
}
