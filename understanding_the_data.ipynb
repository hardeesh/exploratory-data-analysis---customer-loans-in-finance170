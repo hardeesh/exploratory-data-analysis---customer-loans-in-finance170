{
 "cells": [
  {
   "cell_type": "code",
   "execution_count": 2,
   "metadata": {},
   "outputs": [
    {
     "name": "stdout",
     "output_type": "stream",
     "text": [
      "             id  member_id  loan_amount  funded_amount  funded_amount_inv  \\\n",
      "0      38676116   41461848         8000         8000.0             8000.0   \n",
      "1      38656203   41440010        13200        13200.0            13200.0   \n",
      "2      38656154   41439961        16000        16000.0            16000.0   \n",
      "3      38656128   41439934        15000        15000.0            15000.0   \n",
      "4      38656121   41439927        15000        15000.0            15000.0   \n",
      "...         ...        ...          ...            ...                ...   \n",
      "54226     76597      76583         5000         5000.0             1775.0   \n",
      "54227    142608      74724         5000         5000.0             2350.0   \n",
      "54228    117045      70978         3500         3500.0             2225.0   \n",
      "54229     88854      70699         5000         5000.0              225.0   \n",
      "54230     72323      70694         5000         5000.0              350.0   \n",
      "\n",
      "            term  int_rate  instalment grade sub_grade  ... recoveries  \\\n",
      "0      36 months      7.49      248.82     A        A4  ...       0.00   \n",
      "1      36 months      6.99      407.52     A        A3  ...       0.00   \n",
      "2      36 months      7.49      497.63     A        A4  ...       0.00   \n",
      "3      36 months     14.31      514.93     C        C4  ...       0.00   \n",
      "4      36 months      6.03      456.54     A        A1  ...       0.00   \n",
      "...          ...       ...         ...   ...       ...  ...        ...   \n",
      "54226  36 months      9.01      159.03     B        B2  ...       0.00   \n",
      "54227  36 months     10.59      162.73     C        C2  ...       0.00   \n",
      "54228  36 months      7.43      108.77     A        A2  ...       0.00   \n",
      "54229  36 months      7.43      155.38     A        A2  ...       0.00   \n",
      "54230  36 months     11.54      164.98     C        C5  ...     182.27   \n",
      "\n",
      "      collection_recovery_fee  last_payment_date last_payment_amount  \\\n",
      "0                        0.00           Jan-2022              248.82   \n",
      "1                        0.00           Jan-2022              407.52   \n",
      "2                        0.00           Oct-2021            12850.16   \n",
      "3                        0.00           Jun-2021            13899.67   \n",
      "4                        0.00           Jan-2022              456.54   \n",
      "...                       ...                ...                 ...   \n",
      "54226                    0.00           Jul-2016              160.61   \n",
      "54227                    0.00           Oct-2016              490.01   \n",
      "54228                    0.00           Sep-2016              110.58   \n",
      "54229                    0.00           Mar-2014                0.00   \n",
      "54230                    1.84           Mar-2014              164.97   \n",
      "\n",
      "      next_payment_date last_credit_pull_date collections_12_mths_ex_med  \\\n",
      "0              Feb-2022              Jan-2022                        0.0   \n",
      "1              Feb-2022              Jan-2022                        0.0   \n",
      "2                   NaN              Oct-2021                        0.0   \n",
      "3                   NaN              Jun-2021                        0.0   \n",
      "4              Feb-2022              Jan-2022                        0.0   \n",
      "...                 ...                   ...                        ...   \n",
      "54226               NaN              Jul-2016                        NaN   \n",
      "54227               NaN              Sep-2016                        0.0   \n",
      "54228          Sep-2016              May-2013                        NaN   \n",
      "54229               NaN              May-2013                        NaN   \n",
      "54230          Dec-2014              Jan-2015                        NaN   \n",
      "\n",
      "      mths_since_last_major_derog  policy_code  application_type  \n",
      "0                             5.0            1        INDIVIDUAL  \n",
      "1                             NaN            1        INDIVIDUAL  \n",
      "2                             NaN            1        INDIVIDUAL  \n",
      "3                             NaN            1        INDIVIDUAL  \n",
      "4                             NaN            1        INDIVIDUAL  \n",
      "...                           ...          ...               ...  \n",
      "54226                         NaN            1        INDIVIDUAL  \n",
      "54227                         NaN            1        INDIVIDUAL  \n",
      "54228                         NaN            1        INDIVIDUAL  \n",
      "54229                         NaN            1        INDIVIDUAL  \n",
      "54230                         NaN            1        INDIVIDUAL  \n",
      "\n",
      "[54231 rows x 43 columns]\n"
     ]
    }
   ],
   "source": [
    "import pandas as pd\n",
    "import numpy as np\n",
    "from DataFrameInfo import DataFrameInfo\n",
    "import seaborn as sns\n",
    "import matplotlib.pyplot as plt\n",
    "from datetime import datetime\n",
    "\n",
    "df = pd.read_csv('loan_payments.csv')\n",
    "print(df)"
   ]
  },
  {
   "cell_type": "code",
   "execution_count": 3,
   "metadata": {},
   "outputs": [
    {
     "name": "stdout",
     "output_type": "stream",
     "text": [
      "<class 'pandas.core.frame.DataFrame'>\n",
      "RangeIndex: 54231 entries, 0 to 54230\n",
      "Data columns (total 43 columns):\n",
      " #   Column                       Non-Null Count  Dtype  \n",
      "---  ------                       --------------  -----  \n",
      " 0   id                           54231 non-null  int64  \n",
      " 1   member_id                    54231 non-null  int64  \n",
      " 2   loan_amount                  54231 non-null  int64  \n",
      " 3   funded_amount                51224 non-null  float64\n",
      " 4   funded_amount_inv            54231 non-null  float64\n",
      " 5   term                         49459 non-null  object \n",
      " 6   int_rate                     49062 non-null  float64\n",
      " 7   instalment                   54231 non-null  float64\n",
      " 8   grade                        54231 non-null  object \n",
      " 9   sub_grade                    54231 non-null  object \n",
      " 10  employment_length            52113 non-null  object \n",
      " 11  home_ownership               54231 non-null  object \n",
      " 12  annual_inc                   54231 non-null  float64\n",
      " 13  verification_status          54231 non-null  object \n",
      " 14  issue_date                   54231 non-null  object \n",
      " 15  loan_status                  54231 non-null  object \n",
      " 16  payment_plan                 54231 non-null  object \n",
      " 17  purpose                      54231 non-null  object \n",
      " 18  dti                          54231 non-null  float64\n",
      " 19  delinq_2yrs                  54231 non-null  int64  \n",
      " 20  earliest_credit_line         54231 non-null  object \n",
      " 21  inq_last_6mths               54231 non-null  int64  \n",
      " 22  mths_since_last_delinq       23229 non-null  float64\n",
      " 23  mths_since_last_record       6181 non-null   float64\n",
      " 24  open_accounts                54231 non-null  int64  \n",
      " 25  total_accounts               54231 non-null  int64  \n",
      " 26  out_prncp                    54231 non-null  float64\n",
      " 27  out_prncp_inv                54231 non-null  float64\n",
      " 28  total_payment                54231 non-null  float64\n",
      " 29  total_payment_inv            54231 non-null  float64\n",
      " 30  total_rec_prncp              54231 non-null  float64\n",
      " 31  total_rec_int                54231 non-null  float64\n",
      " 32  total_rec_late_fee           54231 non-null  float64\n",
      " 33  recoveries                   54231 non-null  float64\n",
      " 34  collection_recovery_fee      54231 non-null  float64\n",
      " 35  last_payment_date            54158 non-null  object \n",
      " 36  last_payment_amount          54231 non-null  float64\n",
      " 37  next_payment_date            21623 non-null  object \n",
      " 38  last_credit_pull_date        54224 non-null  object \n",
      " 39  collections_12_mths_ex_med   54180 non-null  float64\n",
      " 40  mths_since_last_major_derog  7499 non-null   float64\n",
      " 41  policy_code                  54231 non-null  int64  \n",
      " 42  application_type             54231 non-null  object \n",
      "dtypes: float64(20), int64(8), object(15)\n",
      "memory usage: 17.8+ MB\n",
      "None\n"
     ]
    }
   ],
   "source": [
    "data = DataFrameInfo()\n",
    "\n",
    "print(data.column_description(df))"
   ]
  },
  {
   "cell_type": "code",
   "execution_count": 4,
   "metadata": {},
   "outputs": [],
   "source": [
    "df['term'] = df['term'].str.replace('months','')\n",
    "df['term'] = df['term'].astype(float)\n",
    "df = df.rename(columns={'term':'term_months'})"
   ]
  },
  {
   "cell_type": "code",
   "execution_count": 5,
   "metadata": {},
   "outputs": [
    {
     "name": "stdout",
     "output_type": "stream",
     "text": [
      "<class 'pandas.core.frame.DataFrame'>\n",
      "RangeIndex: 54231 entries, 0 to 54230\n",
      "Data columns (total 43 columns):\n",
      " #   Column                       Non-Null Count  Dtype         \n",
      "---  ------                       --------------  -----         \n",
      " 0   id                           54231 non-null  int64         \n",
      " 1   member_id                    54231 non-null  int64         \n",
      " 2   loan_amount                  54231 non-null  int64         \n",
      " 3   funded_amount                51224 non-null  float64       \n",
      " 4   funded_amount_inv            54231 non-null  float64       \n",
      " 5   term_months                  49459 non-null  float64       \n",
      " 6   int_rate                     49062 non-null  float64       \n",
      " 7   instalment                   54231 non-null  float64       \n",
      " 8   grade                        54231 non-null  object        \n",
      " 9   sub_grade                    54231 non-null  object        \n",
      " 10  employment_length            52113 non-null  object        \n",
      " 11  home_ownership               54231 non-null  object        \n",
      " 12  annual_inc                   54231 non-null  float64       \n",
      " 13  verification_status          54231 non-null  object        \n",
      " 14  issue_date                   54231 non-null  datetime64[ns]\n",
      " 15  loan_status                  54231 non-null  object        \n",
      " 16  payment_plan                 54231 non-null  object        \n",
      " 17  purpose                      54231 non-null  object        \n",
      " 18  dti                          54231 non-null  float64       \n",
      " 19  delinq_2yrs                  54231 non-null  int64         \n",
      " 20  earliest_credit_line         54231 non-null  object        \n",
      " 21  inq_last_6mths               54231 non-null  int64         \n",
      " 22  mths_since_last_delinq       23229 non-null  float64       \n",
      " 23  mths_since_last_record       6181 non-null   float64       \n",
      " 24  open_accounts                54231 non-null  int64         \n",
      " 25  total_accounts               54231 non-null  int64         \n",
      " 26  out_prncp                    54231 non-null  float64       \n",
      " 27  out_prncp_inv                54231 non-null  float64       \n",
      " 28  total_payment                54231 non-null  float64       \n",
      " 29  total_payment_inv            54231 non-null  float64       \n",
      " 30  total_rec_prncp              54231 non-null  float64       \n",
      " 31  total_rec_int                54231 non-null  float64       \n",
      " 32  total_rec_late_fee           54231 non-null  float64       \n",
      " 33  recoveries                   54231 non-null  float64       \n",
      " 34  collection_recovery_fee      54231 non-null  float64       \n",
      " 35  last_payment_date            54158 non-null  datetime64[ns]\n",
      " 36  last_payment_amount          54231 non-null  float64       \n",
      " 37  next_payment_date            21623 non-null  object        \n",
      " 38  last_credit_pull_date        54224 non-null  object        \n",
      " 39  collections_12_mths_ex_med   54180 non-null  float64       \n",
      " 40  mths_since_last_major_derog  7499 non-null   float64       \n",
      " 41  policy_code                  54231 non-null  int64         \n",
      " 42  application_type             54231 non-null  object        \n",
      "dtypes: datetime64[ns](2), float64(21), int64(8), object(12)\n",
      "memory usage: 17.8+ MB\n",
      "None\n"
     ]
    }
   ],
   "source": [
    "df['issue_date'] = pd.to_datetime(df['issue_date'], format=\"%b-%Y\")\n",
    "df['last_payment_date'] = pd.to_datetime(df['last_payment_date'], format=\"%b-%Y\")\n",
    "print(data.column_description(df))"
   ]
  },
  {
   "cell_type": "code",
   "execution_count": 6,
   "metadata": {},
   "outputs": [
    {
     "name": "stdout",
     "output_type": "stream",
     "text": [
      "                 id     member_id   loan_amount  funded_amount  \\\n",
      "count  5.423100e+04  5.423100e+04  54231.000000   51224.000000   \n",
      "mean   7.621797e+06  8.655350e+06  13333.076100   13229.509117   \n",
      "min    5.552100e+04  7.069400e+04    500.000000     500.000000   \n",
      "25%    7.594330e+05  9.587720e+05   7000.000000    7000.000000   \n",
      "50%    7.084590e+06  8.709873e+06  12000.000000   12000.000000   \n",
      "75%    8.860616e+06  1.052714e+07  18000.000000   18000.000000   \n",
      "max    3.867612e+07  4.146185e+07  35000.000000   35000.000000   \n",
      "std    9.571362e+06  1.031281e+07   8082.196709    8019.017599   \n",
      "\n",
      "       funded_amount_inv   term_months      int_rate    instalment  \\\n",
      "count       54231.000000  49459.000000  49062.000000  54231.000000   \n",
      "mean        12952.622979     42.606199     13.507328    400.013953   \n",
      "min             0.000000     36.000000      5.420000     15.670000   \n",
      "25%          6700.000000     36.000000     10.370000    224.205000   \n",
      "50%         11300.000000     36.000000     13.160000    347.150000   \n",
      "75%         18000.000000     60.000000     16.200000    527.550000   \n",
      "max         35000.000000     60.000000     26.060000   1407.010000   \n",
      "std          8099.473527     10.719573      4.392893    238.920012   \n",
      "\n",
      "         annual_inc                     issue_date  ...  total_rec_prncp  \\\n",
      "count  5.423100e+04                          54231  ...     54231.000000   \n",
      "mean   7.222085e+04  2018-09-17 11:41:04.855894272  ...      9407.048589   \n",
      "min    3.300000e+03            2013-06-01 00:00:00  ...         0.000000   \n",
      "25%    4.500000e+04            2017-05-01 00:00:00  ...      4264.350000   \n",
      "50%    6.100000e+04            2019-09-01 00:00:00  ...      7644.920000   \n",
      "75%    8.600000e+04            2019-11-01 00:00:00  ...     12505.625000   \n",
      "max    2.039784e+06            2021-01-01 00:00:00  ...     35000.020000   \n",
      "std    5.158934e+04                            NaN  ...      6958.124264   \n",
      "\n",
      "       total_rec_int  total_rec_late_fee    recoveries  \\\n",
      "count   54231.000000        54231.000000  54231.000000   \n",
      "mean     2577.757101            0.901512     93.501288   \n",
      "min         0.000000            0.000000      0.000000   \n",
      "25%       889.560000            0.000000      0.000000   \n",
      "50%      1734.640000            0.000000      0.000000   \n",
      "75%      3323.765000            0.000000      0.000000   \n",
      "max     23062.450000          358.680000  27750.000000   \n",
      "std      2581.657345            6.215792    630.843636   \n",
      "\n",
      "       collection_recovery_fee              last_payment_date  \\\n",
      "count             54231.000000                          54158   \n",
      "mean                 10.859057  2020-08-23 00:21:38.600391680   \n",
      "min                   0.000000            2013-12-01 00:00:00   \n",
      "25%                   0.000000            2019-11-01 00:00:00   \n",
      "50%                   0.000000            2021-04-01 00:00:00   \n",
      "75%                   0.000000            2022-01-01 00:00:00   \n",
      "max                7002.190000            2022-01-01 00:00:00   \n",
      "std                 120.193950                            NaN   \n",
      "\n",
      "       last_payment_amount  collections_12_mths_ex_med  \\\n",
      "count         54231.000000                54180.000000   \n",
      "mean           3130.706393                    0.004208   \n",
      "min               0.000000                    0.000000   \n",
      "25%             289.790000                    0.000000   \n",
      "50%             562.670000                    0.000000   \n",
      "75%            3738.120000                    0.000000   \n",
      "max           36115.200000                    4.000000   \n",
      "std            5323.801675                    0.070990   \n",
      "\n",
      "       mths_since_last_major_derog  policy_code  \n",
      "count                  7499.000000      54231.0  \n",
      "mean                     42.253634          1.0  \n",
      "min                       0.000000          1.0  \n",
      "25%                      26.000000          1.0  \n",
      "50%                      42.000000          1.0  \n",
      "75%                      59.000000          1.0  \n",
      "max                     146.000000          1.0  \n",
      "std                      21.052360          0.0  \n",
      "\n",
      "[8 rows x 31 columns]\n"
     ]
    }
   ],
   "source": [
    "print(data.describe_data(df))"
   ]
  },
  {
   "cell_type": "code",
   "execution_count": 7,
   "metadata": {},
   "outputs": [
    {
     "name": "stdout",
     "output_type": "stream",
     "text": [
      "id        member_id  loan_amount  funded_amount  funded_amount_inv  term_months  int_rate  instalment  grade  sub_grade  employment_length  home_ownership  annual_inc  verification_status  issue_date  loan_status  payment_plan  purpose             dti    delinq_2yrs  earliest_credit_line  inq_last_6mths  mths_since_last_delinq  mths_since_last_record  open_accounts  total_accounts  out_prncp  out_prncp_inv  total_payment  total_payment_inv  total_rec_prncp  total_rec_int  total_rec_late_fee  recoveries  collection_recovery_fee  last_payment_date  last_payment_amount  next_payment_date  last_credit_pull_date  collections_12_mths_ex_med  mths_since_last_major_derog  policy_code  application_type\n",
      "5640531   7023010    6625         6625.0         6625.0             36.0         16.20     233.58      C      C4         10+ years          MORTGAGE        40000.0     Verified             2019-10-01  Current      n             debt_consolidation  20.73  1            Nov-2001              3               1.0                     116.0                   7              13              1966.99    1966.99        6306.14        6306.14            4658.01          1648.13        0.0                 0.0         0.0                      2022-01-01         233.58               Feb-2022           Jan-2022               0.0                         1.0                          1            INDIVIDUAL          1\n",
      "10146469  11998485   27000        27000.0        27000.0            36.0         14.47     928.98      C      C2         3 years            MORTGAGE        210000.0    Verified             2019-12-01  Current      n             debt_consolidation  9.69   3            Jun-1986              3               3.0                     74.0                    24             51              10320.80   10320.80       22295.37       22295.37           16679.20         5616.17        0.0                 0.0         0.0                      2022-01-01         928.98               Jan-2022           Jan-2022               0.0                         70.0                         1            INDIVIDUAL          1\n",
      "37691302  40464252   4975         4975.0         4975.0             36.0         17.14     177.72      D      D4         < 1 year           MORTGAGE        41600.0     Verified             2021-01-01  Current      n             debt_consolidation  5.22   0            Jun-2003              2               68.0                    69.0                    9              20              3589.58    3589.58        2123.17        2123.17            1385.42          737.75         0.0                 0.0         0.0                      2022-01-01         177.72               Feb-2022           Jan-2022               0.0                         68.0                         1            INDIVIDUAL          1\n",
      "37671881  40434899   14700        14700.0        14700.0            36.0         15.99     516.74      D      D2         10+ years          RENT            49000.0     Source Verified      2021-01-01  Current      n             debt_consolidation  19.64  0            Jan-1988              2               29.0                    117.0                   5              17              10554.55   10554.55       6174.76        6174.76            4145.45          2029.31        0.0                 0.0         0.0                      2022-01-01         516.74               Feb-2022           Jan-2022               0.0                         29.0                         1            INDIVIDUAL          1\n",
      "37661974  40425044   16000        16000.0        16000.0            60.0         13.66     369.48      C      C3         6 years            OWN             59500.0     Source Verified      2021-01-01  Current      n             credit_card         19.99  0            Dec-1988              0               41.0                    22.0                    9              14              13605.61   13605.61       4421.62        4421.62            2394.39          2027.23        0.0                 0.0         0.0                      2022-01-01         369.48               Feb-2022           Jan-2022               0.0                         43.0                         1            INDIVIDUAL          1\n",
      "                                                                                                                                                                                                                                                                                                                                                                                                                                                                                                                                                                                                                                                                                                                                 ..\n",
      "8535824   10287986   7000         7000.0         7000.0             36.0         12.99     235.83      B      B4         2 years            RENT            39000.0     Source Verified      2019-11-01  Current      n             credit_card         5.78   0            Jul-1985              1               51.0                    38.0                    14             54              2433.53    2433.53        5895.00        5895.00            4566.47          1328.53        0.0                 0.0         0.0                      2021-12-01         235.83               Feb-2022           Jan-2022               0.0                         51.0                         1            INDIVIDUAL          1\n",
      "8535086   10287243   15600        15600.0        15600.0            60.0         14.30     365.42      C      C1         1 year             RENT            75000.0     Verified             2019-11-01  Current      n             credit_card         9.96   1            Feb-2001              0               7.0                     77.0                    14             33              10167.59   10167.59       9498.01        9498.01            5432.41          4065.60        0.0                 0.0         0.0                      2022-01-01         365.42               Feb-2022           Jan-2022               0.0                         9.0                          1            INDIVIDUAL          1\n",
      "8534800   10286951   5000         5000.0         5000.0             36.0         10.99     163.67      B      B2         10+ years          OWN             26000.0     Not Verified         2019-11-01  Current      n             credit_card         10.85  0            Dec-1998              0               42.0                    103.0                   10             18              1705.24    1705.24        4091.75        4091.75            3294.76          796.99         0.0                 0.0         0.0                      2022-01-01         163.67               Jan-2022           Jan-2022               0.0                         42.0                         1            INDIVIDUAL          1\n",
      "8515074   10267195   12600        12600.0        12600.0            36.0         11.99     418.45      B      B3         10+ years          MORTGAGE        105000.0    Verified             2019-11-01  Current      n             debt_consolidation  10.07  0            Oct-1994              0               50.0                    52.0                    8              39              3963.23    3963.23        10879.46       10879.46           8636.77          2242.69        0.0                 0.0         0.0                      2022-01-01         418.45               Feb-2022           Jan-2022               0.0                         51.0                         1            INDIVIDUAL          1\n",
      "38645496  41429293   12000        12000.0        11975.0            60.0         17.86     303.81      D      D5         < 1 year           OWN             30000.0     Source Verified      2021-01-01  Current      n             debt_consolidation  8.52   0            Feb-2004              0               71.0                    63.0                    14             21              10368.18   10346.57       3633.81        3626.24            1631.82          2001.99        0.0                 0.0         0.0                      2022-01-01         303.81               Feb-2022           Jan-2022               0.0                         71.0                         1            INDIVIDUAL          1\n",
      "Name: count, Length: 423, dtype: int64\n"
     ]
    }
   ],
   "source": [
    "print(data.distinct_values(df))"
   ]
  },
  {
   "cell_type": "code",
   "execution_count": 8,
   "metadata": {},
   "outputs": [
    {
     "name": "stdout",
     "output_type": "stream",
     "text": [
      "(54231, 43)\n",
      "None\n"
     ]
    }
   ],
   "source": [
    "print(data.print_shape(df))"
   ]
  },
  {
   "cell_type": "code",
   "execution_count": 9,
   "metadata": {},
   "outputs": [
    {
     "name": "stdout",
     "output_type": "stream",
     "text": [
      "id                              0.000000\n",
      "member_id                       0.000000\n",
      "loan_amount                     0.000000\n",
      "funded_amount                   5.544799\n",
      "funded_amount_inv               0.000000\n",
      "term_months                     8.799395\n",
      "int_rate                        9.531449\n",
      "instalment                      0.000000\n",
      "grade                           0.000000\n",
      "sub_grade                       0.000000\n",
      "employment_length               3.905515\n",
      "home_ownership                  0.000000\n",
      "annual_inc                      0.000000\n",
      "verification_status             0.000000\n",
      "issue_date                      0.000000\n",
      "loan_status                     0.000000\n",
      "payment_plan                    0.000000\n",
      "purpose                         0.000000\n",
      "dti                             0.000000\n",
      "delinq_2yrs                     0.000000\n",
      "earliest_credit_line            0.000000\n",
      "inq_last_6mths                  0.000000\n",
      "mths_since_last_delinq         57.166565\n",
      "mths_since_last_record         88.602460\n",
      "open_accounts                   0.000000\n",
      "total_accounts                  0.000000\n",
      "out_prncp                       0.000000\n",
      "out_prncp_inv                   0.000000\n",
      "total_payment                   0.000000\n",
      "total_payment_inv               0.000000\n",
      "total_rec_prncp                 0.000000\n",
      "total_rec_int                   0.000000\n",
      "total_rec_late_fee              0.000000\n",
      "recoveries                      0.000000\n",
      "collection_recovery_fee         0.000000\n",
      "last_payment_date               0.134609\n",
      "last_payment_amount             0.000000\n",
      "next_payment_date              60.127971\n",
      "last_credit_pull_date           0.012908\n",
      "collections_12_mths_ex_med      0.094042\n",
      "mths_since_last_major_derog    86.172116\n",
      "policy_code                     0.000000\n",
      "application_type                0.000000\n",
      "dtype: float64\n"
     ]
    }
   ],
   "source": [
    "print(data.percent_missing(df))"
   ]
  },
  {
   "cell_type": "code",
   "execution_count": 10,
   "metadata": {},
   "outputs": [
    {
     "name": "stdout",
     "output_type": "stream",
     "text": [
      "funded_amount\n",
      "10000.0    3703\n",
      "12000.0    2863\n",
      "15000.0    2637\n",
      "20000.0    2418\n",
      "5000.0     1913\n",
      "           ... \n",
      "19225.0       1\n",
      "20900.0       1\n",
      "24650.0       1\n",
      "25700.0       1\n",
      "24750.0       1\n",
      "Name: count, Length: 1122, dtype: int64\n"
     ]
    }
   ],
   "source": [
    "print(data.distinct_values(df.funded_amount))"
   ]
  },
  {
   "cell_type": "code",
   "execution_count": 11,
   "metadata": {},
   "outputs": [
    {
     "name": "stdout",
     "output_type": "stream",
     "text": [
      "term_months\n",
      "36.0    35845\n",
      "60.0    13614\n",
      "Name: count, dtype: int64\n"
     ]
    }
   ],
   "source": [
    "print(data.distinct_values(df.term_months))"
   ]
  },
  {
   "cell_type": "code",
   "execution_count": 12,
   "metadata": {},
   "outputs": [
    {
     "name": "stdout",
     "output_type": "stream",
     "text": [
      "int_rate\n",
      "11.99    1848\n",
      "10.99    1842\n",
      "12.99    1609\n",
      "15.61    1158\n",
      "7.90     1045\n",
      "         ... \n",
      "24.59       1\n",
      "18.49       1\n",
      "12.62       1\n",
      "17.41       1\n",
      "15.38       1\n",
      "Name: count, Length: 457, dtype: int64\n"
     ]
    }
   ],
   "source": [
    "print(data.distinct_values(df.int_rate))"
   ]
  },
  {
   "cell_type": "code",
   "execution_count": 13,
   "metadata": {},
   "outputs": [
    {
     "name": "stdout",
     "output_type": "stream",
     "text": [
      "employment_length\n",
      "10+ years    15907\n",
      "2 years       5066\n",
      "< 1 year      5034\n",
      "3 years       4589\n",
      "5 years       3836\n",
      "1 year        3708\n",
      "4 years       3482\n",
      "6 years       3059\n",
      "7 years       2964\n",
      "8 years       2537\n",
      "9 years       1931\n",
      "Name: count, dtype: int64\n"
     ]
    }
   ],
   "source": [
    "print(data.distinct_values(df.employment_length))"
   ]
  },
  {
   "cell_type": "code",
   "execution_count": 14,
   "metadata": {},
   "outputs": [
    {
     "name": "stdout",
     "output_type": "stream",
     "text": [
      "purpose\n",
      "debt_consolidation    29593\n",
      "credit_card           11133\n",
      "other                  3697\n",
      "home_improvement       3215\n",
      "major_purchase         1679\n",
      "small_business         1312\n",
      "car                    1022\n",
      "medical                 631\n",
      "wedding                 539\n",
      "moving                  456\n",
      "house                   354\n",
      "vacation                320\n",
      "educational             201\n",
      "renewable_energy         79\n",
      "Name: count, dtype: int64\n"
     ]
    }
   ],
   "source": [
    "print(data.distinct_values(df.purpose))"
   ]
  },
  {
   "cell_type": "code",
   "execution_count": 20,
   "metadata": {},
   "outputs": [
    {
     "name": "stdout",
     "output_type": "stream",
     "text": [
      "home_ownership\n",
      "MORTGAGE    26923\n",
      "RENT        22493\n",
      "OWN          4750\n",
      "OTHER          63\n",
      "NONE            2\n",
      "Name: count, dtype: int64\n"
     ]
    }
   ],
   "source": [
    "print(data.distinct_values(df.home_ownership))"
   ]
  },
  {
   "cell_type": "code",
   "execution_count": 21,
   "metadata": {},
   "outputs": [
    {
     "name": "stdout",
     "output_type": "stream",
     "text": [
      "loan_status\n",
      "Fully Paid                                             27037\n",
      "Current                                                19268\n",
      "Charged Off                                             5571\n",
      "Does not meet the credit policy. Status:Fully Paid       984\n",
      "Late (31-120 days)                                       580\n",
      "Does not meet the credit policy. Status:Charged Off      368\n",
      "In Grace Period                                          265\n",
      "Late (16-30 days)                                        106\n",
      "Default                                                   52\n",
      "Name: count, dtype: int64\n"
     ]
    }
   ],
   "source": [
    "print(data.distinct_values(df.loan_status))"
   ]
  },
  {
   "cell_type": "code",
   "execution_count": 15,
   "metadata": {},
   "outputs": [
    {
     "data": {
      "text/plain": [
       "<function matplotlib.pyplot.show(close=None, block=None)>"
      ]
     },
     "execution_count": 15,
     "metadata": {},
     "output_type": "execute_result"
    },
    {
     "data": {
      "image/png": "[encoded data removed]",
      "text/plain": [
       "<Figure size 640x480 with 1 Axes>"
      ]
     },
     "metadata": {},
     "output_type": "display_data"
    }
   ],
   "source": [
    "from Plotter import Plotter\n",
    "\n",
    "graph = Plotter(df)\n",
    "\n",
    "graph.histogram('int_rate', 20)"
   ]
  },
  {
   "cell_type": "code",
   "execution_count": 16,
   "metadata": {},
   "outputs": [
    {
     "data": {
      "text/plain": [
       "<function seaborn.utils.despine(fig=None, ax=None, top=True, right=True, left=False, bottom=False, offset=None, trim=False)>"
      ]
     },
     "execution_count": 16,
     "metadata": {},
     "output_type": "execute_result"
    },
    {
     "data": {
      "image/png": "[encoded data removed]",
      "text/plain": [
       "<Figure size 640x480 with 1 Axes>"
      ]
     },
     "metadata": {},
     "output_type": "display_data"
    }
   ],
   "source": [
    "sns.histplot(data=df, x='int_rate', kde=True)\n",
    "sns.despine"
   ]
  },
  {
   "cell_type": "code",
   "execution_count": 17,
   "metadata": {},
   "outputs": [
    {
     "data": {
      "text/plain": [
       "<function seaborn.utils.despine(fig=None, ax=None, top=True, right=True, left=False, bottom=False, offset=None, trim=False)>"
      ]
     },
     "execution_count": 17,
     "metadata": {},
     "output_type": "execute_result"
    },
    {
     "data": {
      "image/png": "[encoded data removed]",
      "text/plain": [
       "<Figure size 640x480 with 1 Axes>"
      ]
     },
     "metadata": {},
     "output_type": "display_data"
    }
   ],
   "source": [
    "sns.histplot(data=df, x='funded_amount', kde=True)\n",
    "sns.despine"
   ]
  },
  {
   "cell_type": "code",
   "execution_count": 18,
   "metadata": {},
   "outputs": [
    {
     "data": {
      "text/plain": [
       "<function matplotlib.pyplot.show(close=None, block=None)>"
      ]
     },
     "execution_count": 18,
     "metadata": {},
     "output_type": "execute_result"
    },
    {
     "data": {
      "image/png": "[encoded data removed]",
      "text/plain": [
       "<Figure size 640x480 with 1 Axes>"
      ]
     },
     "metadata": {},
     "output_type": "display_data"
    }
   ],
   "source": [
    "graph.histogram('funded_amount', 20)"
   ]
  },
  {
   "cell_type": "code",
   "execution_count": 19,
   "metadata": {},
   "outputs": [],
   "source": [
    "df.to_csv(r\"C:\\Users\\harde\\Documents\\AiCore\\Customer Loans in Finance/loan_payments2.csv\", index=False)"
   ]
  },
  {
   "cell_type": "code",
   "execution_count": null,
   "metadata": {},
   "outputs": [],
   "source": []
  }
 ],
 "metadata": {
  "kernelspec": {
   "display_name": "Python 3",
   "language": "python",
   "name": "python3"
  },
  "language_info": {
   "codemirror_mode": {
    "name": "ipython",
    "version": 3
   },
   "file_extension": ".py",
   "mimetype": "text/x-python",
   "name": "python",
   "nbconvert_exporter": "python",
   "pygments_lexer": "ipython3",
   "version": "3.12.1"
  }
 },
 "nbformat": 4,
 "nbformat_minor": 2
}
